{
  "nbformat": 4,
  "nbformat_minor": 0,
  "metadata": {
    "colab": {
      "name": "DS 2 project.ipynb",
      "provenance": [],
      "collapsed_sections": [],
      "include_colab_link": true
    },
    "kernelspec": {
      "name": "python3",
      "display_name": "Python 3"
    }
  },
  "cells": [
    {
      "cell_type": "markdown",
      "metadata": {
        "id": "view-in-github",
        "colab_type": "text"
      },
      "source": [
        "<a href=\"https://colab.research.google.com/github/panzershracker/Python-for-DS2/blob/master/DS_2_project.ipynb\" target=\"_parent\"><img src=\"https://colab.research.google.com/assets/colab-badge.svg\" alt=\"Open In Colab\"/></a>"
      ]
    },
    {
      "cell_type": "code",
      "metadata": {
        "id": "8GkjB3hXDDo1",
        "colab_type": "code",
        "colab": {}
      },
      "source": [
        "# !pip install catboost"
      ],
      "execution_count": 0,
      "outputs": []
    },
    {
      "cell_type": "code",
      "metadata": {
        "id": "Y7fWFze2NqVZ",
        "colab_type": "code",
        "colab": {}
      },
      "source": [
        "import pandas as pd\n",
        "import numpy as np\n",
        "import seaborn as sns\n",
        "from google.colab import drive\n",
        "from matplotlib import pyplot as plt\n",
        "from pylab import rcParams\n",
        "\n",
        "from sklearn.preprocessing import StandardScaler\n",
        "from sklearn.model_selection import train_test_split\n",
        "from sklearn.neighbors import KNeighborsClassifier\n",
        "from sklearn.linear_model import LogisticRegression\n",
        "from sklearn.metrics import classification_report, f1_score, precision_score, recall_score\n",
        "\n",
        "import xgboost, lightgbm, catboost\n",
        "\n",
        "import warnings\n",
        "\n",
        "warnings.simplefilter('ignore')"
      ],
      "execution_count": 0,
      "outputs": []
    },
    {
      "cell_type": "code",
      "metadata": {
        "id": "OxhtKyo-1o1y",
        "colab_type": "code",
        "colab": {
          "base_uri": "https://localhost:8080/",
          "height": 34
        },
        "outputId": "fb5c76c7-e0e5-405e-f2cb-0bbfea983c81"
      },
      "source": [
        "drive.mount('/content/drive')"
      ],
      "execution_count": 1192,
      "outputs": [
        {
          "output_type": "stream",
          "text": [
            "Drive already mounted at /content/drive; to attempt to forcibly remount, call drive.mount(\"/content/drive\", force_remount=True).\n"
          ],
          "name": "stdout"
        }
      ]
    },
    {
      "cell_type": "code",
      "metadata": {
        "id": "LrmbNTfjzVW4",
        "colab_type": "code",
        "colab": {}
      },
      "source": [
        "df = pd.read_csv('/content/drive/My Drive/Python for DS 2/course_project_train.csv')"
      ],
      "execution_count": 0,
      "outputs": []
    },
    {
      "cell_type": "code",
      "metadata": {
        "id": "bEYg0cqY1H1I",
        "colab_type": "code",
        "colab": {}
      },
      "source": [
        "annot = ['домовладение','годовой доход','количество лет на текущем месте работы','налоговые льготы','количество открытых счетов',\n",
        "         'количество лет кредитной истории','наибольший открытый кредит','количество проблем с кредитом','количество месяцев с последней просрочки платежа',\n",
        "         'банкротства','цель кредита','срок кредита','текущая сумма кредита','текущий кредитный баланс','ежемесячный долг','кредитный рейтинг',\n",
        "         'факт невыполнения кредитных обязательств (0 - погашен вовремя, 1 - просрочка',]"
      ],
      "execution_count": 0,
      "outputs": []
    },
    {
      "cell_type": "code",
      "metadata": {
        "id": "8ZrirMUL-wv5",
        "colab_type": "code",
        "outputId": "c88863ee-fe1b-4c90-f41b-16f2e7cc2ca2",
        "colab": {
          "base_uri": "https://localhost:8080/",
          "height": 302
        }
      },
      "source": [
        "for i in range(0, len(df.columns)):\n",
        "    print(f'{i} - {df.columns[i]} - {annot[i]}')"
      ],
      "execution_count": 1195,
      "outputs": [
        {
          "output_type": "stream",
          "text": [
            "0 - Home Ownership - домовладение\n",
            "1 - Annual Income - годовой доход\n",
            "2 - Years in current job - количество лет на текущем месте работы\n",
            "3 - Tax Liens - налоговые льготы\n",
            "4 - Number of Open Accounts - количество открытых счетов\n",
            "5 - Years of Credit History - количество лет кредитной истории\n",
            "6 - Maximum Open Credit - наибольший открытый кредит\n",
            "7 - Number of Credit Problems - количество проблем с кредитом\n",
            "8 - Months since last delinquent - количество месяцев с последней просрочки платежа\n",
            "9 - Bankruptcies - банкротства\n",
            "10 - Purpose - цель кредита\n",
            "11 - Term - срок кредита\n",
            "12 - Current Loan Amount - текущая сумма кредита\n",
            "13 - Current Credit Balance - текущий кредитный баланс\n",
            "14 - Monthly Debt - ежемесячный долг\n",
            "15 - Credit Score - кредитный рейтинг\n",
            "16 - Credit Default - факт невыполнения кредитных обязательств (0 - погашен вовремя, 1 - просрочка\n"
          ],
          "name": "stdout"
        }
      ]
    },
    {
      "cell_type": "code",
      "metadata": {
        "id": "Qr1R4FVI_05H",
        "colab_type": "code",
        "colab": {}
      },
      "source": [
        "# Неудобно писать название колонки каждый раз - введем селектор по индексу:\n",
        "\n",
        "def col(col_index):\n",
        "  return df.columns[col_index]"
      ],
      "execution_count": 0,
      "outputs": []
    },
    {
      "cell_type": "code",
      "metadata": {
        "id": "-kEKp8dumb9T",
        "colab_type": "code",
        "colab": {}
      },
      "source": [
        "df = df.dropna(subset=[col(1), col(15)])"
      ],
      "execution_count": 0,
      "outputs": []
    },
    {
      "cell_type": "code",
      "metadata": {
        "id": "D8cQcBrQjNMy",
        "colab_type": "code",
        "colab": {}
      },
      "source": [
        "# df[(df[col(1)].isna() == True) & (df[col(15)].isna() == True)].dropna(axis=0)"
      ],
      "execution_count": 0,
      "outputs": []
    },
    {
      "cell_type": "code",
      "metadata": {
        "id": "jR5VdiCsku7l",
        "colab_type": "code",
        "colab": {
          "base_uri": "https://localhost:8080/",
          "height": 386
        },
        "outputId": "6c91ad64-8c42-4dcc-dc34-bd539529b3af"
      },
      "source": [
        "df.info()"
      ],
      "execution_count": 1199,
      "outputs": [
        {
          "output_type": "stream",
          "text": [
            "<class 'pandas.core.frame.DataFrame'>\n",
            "Int64Index: 5943 entries, 0 to 7497\n",
            "Data columns (total 17 columns):\n",
            "Home Ownership                  5943 non-null object\n",
            "Annual Income                   5943 non-null float64\n",
            "Years in current job            5647 non-null object\n",
            "Tax Liens                       5943 non-null float64\n",
            "Number of Open Accounts         5943 non-null float64\n",
            "Years of Credit History         5943 non-null float64\n",
            "Maximum Open Credit             5943 non-null float64\n",
            "Number of Credit Problems       5943 non-null float64\n",
            "Months since last delinquent    2736 non-null float64\n",
            "Bankruptcies                    5931 non-null float64\n",
            "Purpose                         5943 non-null object\n",
            "Term                            5943 non-null object\n",
            "Current Loan Amount             5943 non-null float64\n",
            "Current Credit Balance          5943 non-null float64\n",
            "Monthly Debt                    5943 non-null float64\n",
            "Credit Score                    5943 non-null float64\n",
            "Credit Default                  5943 non-null int64\n",
            "dtypes: float64(12), int64(1), object(4)\n",
            "memory usage: 835.7+ KB\n"
          ],
          "name": "stdout"
        }
      ]
    },
    {
      "cell_type": "code",
      "metadata": {
        "id": "tZgADcXGM5Op",
        "colab_type": "code",
        "colab": {}
      },
      "source": [
        "def balance(df, target):\n",
        "  \n",
        "  target_counts = df[target].value_counts()\n",
        "  \n",
        "  major = target_counts.argmax()\n",
        "  minor = target_counts.argmin()\n",
        "  \n",
        "  disbalance_coef = target_counts[major] - target_counts[minor]\n",
        "  \n",
        "  for i in range(0, disbalance_coef):\n",
        "    sample = df[df[target] == minor].sample()\n",
        "    df = df.append(sample, ignore_index=True)\n",
        "  \n",
        "  return df.sample(frac=1)\n",
        "  "
      ],
      "execution_count": 0,
      "outputs": []
    },
    {
      "cell_type": "code",
      "metadata": {
        "id": "GW42LdrV9qTN",
        "colab_type": "code",
        "colab": {}
      },
      "source": [
        "def dummies_for_many(col_list, df=df):\n",
        "  \n",
        "  for i in col_list:\n",
        "    \n",
        "    dummy = pd.get_dummies(df[i])\n",
        "\n",
        "    df = pd.concat([df, dummy], axis=1)\n",
        "\n",
        "    df = df.drop(i, axis=1)\n",
        "\n",
        "  return df"
      ],
      "execution_count": 0,
      "outputs": []
    },
    {
      "cell_type": "code",
      "metadata": {
        "id": "9xAskihjjtdL",
        "colab_type": "code",
        "colab": {}
      },
      "source": [
        "def report():\n",
        "  \n",
        "  print(f'TRAIN \\n {classification_report(y_train, y_train_pred)}\\n')\n",
        "  print(f'TEST \\n {classification_report(y_test, y_test_pred)}')"
      ],
      "execution_count": 0,
      "outputs": []
    },
    {
      "cell_type": "code",
      "metadata": {
        "id": "EoNOEa6q4NB5",
        "colab_type": "code",
        "colab": {
          "base_uri": "https://localhost:8080/",
          "height": 593
        },
        "outputId": "8f8bb2f6-2a41-46d7-fb33-86ee244b96a9"
      },
      "source": [
        "corr = df.corr()\n",
        "\n",
        "mask = np.triu(corr, k=1)\n",
        "\n",
        "rcParams['figure.figsize'] = 14, 8\n",
        "\n",
        "sns.heatmap(corr, mask=mask, linewidths=.2, linecolor='lightgrey', cmap='Greys', annot=True)\n",
        "\n",
        "plt.xticks(rotation=50, horizontalalignment='right')\n",
        "\n",
        "plt.show()"
      ],
      "execution_count": 1203,
      "outputs": [
        {
          "output_type": "display_data",
          "data": {
            "image/png": "[encoded data removed]",
            "text/plain": [
              "<Figure size 1008x576 with 2 Axes>"
            ]
          },
          "metadata": {
            "tags": []
          }
        }
      ]
    },
    {
      "cell_type": "markdown",
      "metadata": {
        "id": "8iwfwa7C-VKH",
        "colab_type": "text"
      },
      "source": [
        "### 'Months since last delinquent' filling\n",
        "\n",
        "По логике, если у клиента не было проблем с кредитом, то и просрочек у него не было, и те  nan-значения признака \"Months since last delinquent\" где \"Number of Credit Problems\" = 0, заменить на медиану ненулевых значений."
      ]
    },
    {
      "cell_type": "code",
      "metadata": {
        "id": "AXJN477l-SA_",
        "colab_type": "code",
        "colab": {
          "base_uri": "https://localhost:8080/",
          "height": 283
        },
        "outputId": "1f7d14e6-9fee-44ba-a951-d708dc5e8a38"
      },
      "source": [
        "rcParams['figure.figsize'] = 12, 4\n",
        "\n",
        "plt.scatter(df[col(7)], df[col(8)], edgecolor='black', linewidths=.3)\n",
        "\n",
        "plt.xlabel(col(7))\n",
        "plt.ylabel(col(8))\n",
        "\n",
        "plt.grid()\n",
        "plt.show()"
      ],
      "execution_count": 1204,
      "outputs": [
        {
          "output_type": "display_data",
          "data": {
            "image/png": "[encoded data removed]",
            "text/plain": [
              "<Figure size 864x288 with 1 Axes>"
            ]
          },
          "metadata": {
            "tags": []
          }
        }
      ]
    },
    {
      "cell_type": "code",
      "metadata": {
        "id": "d7kl8P2ZCKWO",
        "colab_type": "code",
        "colab": {}
      },
      "source": [
        "med = df.loc[(df[col(8)].isna() == False), col(8)].median()\n",
        "\n",
        "df.loc[(df[col(8)].isna() == True) & (df[col(7)] == 0), col(8)] = med"
      ],
      "execution_count": 0,
      "outputs": []
    },
    {
      "cell_type": "markdown",
      "metadata": {
        "id": "mccYiiTqTrEO",
        "colab_type": "text"
      },
      "source": [
        "Заполним оставшиеся значения  \"Months since last delinquent\", заполнив их медианой по показателям с тем же значением по \"Number of Credit Problems\""
      ]
    },
    {
      "cell_type": "code",
      "metadata": {
        "id": "-HsdjrKOSNsk",
        "colab_type": "code",
        "colab": {
          "base_uri": "https://localhost:8080/",
          "height": 120
        },
        "outputId": "28a46dfd-6680-4a0b-916c-c628bcffe655"
      },
      "source": [
        "rcParams['figure.figsize'] = 8, 1\n",
        "\n",
        "plt.hist(df.loc[df[col(8)].isna() == True, col(7)])\n",
        "\n",
        "plt.grid()\n",
        "plt.xlabel(col(7))\n",
        "plt.show()"
      ],
      "execution_count": 1206,
      "outputs": [
        {
          "output_type": "display_data",
          "data": {
            "image/png": "[encoded data removed]",
            "text/plain": [
              "<Figure size 576x72 with 1 Axes>"
            ]
          },
          "metadata": {
            "tags": []
          }
        }
      ]
    },
    {
      "cell_type": "code",
      "metadata": {
        "id": "rCFA7tsiTn1u",
        "colab_type": "code",
        "colab": {}
      },
      "source": [
        "min_ = df.loc[(df[col(7)] == 1) & (df[col(8)].isna() == False), col(8)].min()\n",
        "\n",
        "df.loc[(df[col(8)].isna() == True) & (df[col(7)] == 1), col(8)] = min_"
      ],
      "execution_count": 0,
      "outputs": []
    },
    {
      "cell_type": "code",
      "metadata": {
        "id": "myspAJ2AelpO",
        "colab_type": "code",
        "colab": {}
      },
      "source": [
        "med = df.loc[(df[col(7)] == 2) & (df[col(8)].isna() == False), col(8)].median()\n",
        "\n",
        "df.loc[(df[col(8)].isna() == True) & (df[col(7)] == 2), col(8)] = med"
      ],
      "execution_count": 0,
      "outputs": []
    },
    {
      "cell_type": "code",
      "metadata": {
        "id": "AIA7x4jpfzE7",
        "colab_type": "code",
        "colab": {}
      },
      "source": [
        "med = df.loc[(df[col(7)] == 3) & (df[col(8)].isna() == False), col(8)].median()\n",
        "\n",
        "df.loc[(df[col(8)].isna() == True) & (df[col(7)] == 3), col(8)] = med"
      ],
      "execution_count": 0,
      "outputs": []
    },
    {
      "cell_type": "code",
      "metadata": {
        "id": "CuX7OWKBf6VR",
        "colab_type": "code",
        "colab": {}
      },
      "source": [
        "med = df.loc[(df[col(7)] == 4) & (df[col(8)].isna() == False), col(8)].median()\n",
        "\n",
        "df.loc[(df[col(8)].isna() == True) & (df[col(7)] == 4), col(8)] = med"
      ],
      "execution_count": 0,
      "outputs": []
    },
    {
      "cell_type": "markdown",
      "metadata": {
        "id": "O3yIvSAO9uQQ",
        "colab_type": "text"
      },
      "source": [
        "### 'Bankruptcies' Filling"
      ]
    },
    {
      "cell_type": "code",
      "metadata": {
        "id": "zdm1KMKMg89z",
        "colab_type": "code",
        "colab": {
          "base_uri": "https://localhost:8080/",
          "height": 34
        },
        "outputId": "c951ee16-6418-4934-b9eb-6af40007ee77"
      },
      "source": [
        "col(9), col(7)"
      ],
      "execution_count": 1211,
      "outputs": [
        {
          "output_type": "execute_result",
          "data": {
            "text/plain": [
              "('Bankruptcies', 'Number of Credit Problems')"
            ]
          },
          "metadata": {
            "tags": []
          },
          "execution_count": 1211
        }
      ]
    },
    {
      "cell_type": "code",
      "metadata": {
        "id": "jbH3kp-v6xJC",
        "colab_type": "code",
        "colab": {
          "base_uri": "https://localhost:8080/",
          "height": 34
        },
        "outputId": "d8c85c4f-43c8-4c21-a35c-be3cfdd52006"
      },
      "source": [
        "# Кол-во пропусков по 'Bankruptcies'.\n",
        "# Тут мы видим, что пропуски по 'Bankruptcies' имеют 0 в 'Number of Credit Problems',\n",
        "# значит меняем NaN в 'Bankruptcies' на 0\n",
        "\n",
        "len(df.loc[(df[col(9)].isna() == True) & (df[col(7)] == 0), col(9)])"
      ],
      "execution_count": 1212,
      "outputs": [
        {
          "output_type": "execute_result",
          "data": {
            "text/plain": [
              "12"
            ]
          },
          "metadata": {
            "tags": []
          },
          "execution_count": 1212
        }
      ]
    },
    {
      "cell_type": "code",
      "metadata": {
        "id": "bu1plVbS5kHj",
        "colab_type": "code",
        "colab": {}
      },
      "source": [
        "# Т.к. Банкротства имеют высокий показатель корреляции с числом проблем с кредитом, \n",
        "# мы можем сделать вывод, что пропущенные значения равны нулю, если проблем с кредитом не было.\n",
        "\n",
        "df.loc[df[col(9)].isna() == True] = df.loc[df[col(9)].isna() == True].fillna(0)"
      ],
      "execution_count": 0,
      "outputs": []
    },
    {
      "cell_type": "markdown",
      "metadata": {
        "id": "KUxFz_FljbUp",
        "colab_type": "text"
      },
      "source": [
        "### Years in current job filling\n",
        "У всех пропущенных значений 'Years in current job' ненулевые показатели 'Months since last delinquent'. Попробуем восстановить значения используя эту связь."
      ]
    },
    {
      "cell_type": "code",
      "metadata": {
        "id": "39-SZINqy2Qz",
        "colab_type": "code",
        "colab": {
          "base_uri": "https://localhost:8080/",
          "height": 34
        },
        "outputId": "8cd6c819-db73-4990-8181-7bbf6f89a064"
      },
      "source": [
        "col(2), col(8)"
      ],
      "execution_count": 1214,
      "outputs": [
        {
          "output_type": "execute_result",
          "data": {
            "text/plain": [
              "('Years in current job', 'Months since last delinquent')"
            ]
          },
          "metadata": {
            "tags": []
          },
          "execution_count": 1214
        }
      ]
    },
    {
      "cell_type": "code",
      "metadata": {
        "id": "svkmWtjE0zYe",
        "colab_type": "code",
        "colab": {}
      },
      "source": [
        "# df.loc[(df[col(2)].isna() == True) & (df[col(8)] != 0), col(8)].value_counts().sort_index(ascending=False)"
      ],
      "execution_count": 0,
      "outputs": []
    },
    {
      "cell_type": "code",
      "metadata": {
        "id": "j79wJ5gR1f2h",
        "colab_type": "code",
        "colab": {
          "base_uri": "https://localhost:8080/",
          "height": 168
        },
        "outputId": "2a5b6644-af93-467f-e260-4e0afc240cd4"
      },
      "source": [
        "df.loc[(df[col(2)].isna() == True) & (df[col(8)] != 0), col(8)].describe()"
      ],
      "execution_count": 1216,
      "outputs": [
        {
          "output_type": "execute_result",
          "data": {
            "text/plain": [
              "count    296.000000\n",
              "mean      31.177365\n",
              "std       18.957887\n",
              "min        1.000000\n",
              "25%       23.000000\n",
              "50%       32.000000\n",
              "75%       36.250000\n",
              "max       92.000000\n",
              "Name: Months since last delinquent, dtype: float64"
            ]
          },
          "metadata": {
            "tags": []
          },
          "execution_count": 1216
        }
      ]
    },
    {
      "cell_type": "code",
      "metadata": {
        "id": "c2a26E4q0YHd",
        "colab_type": "code",
        "colab": {
          "base_uri": "https://localhost:8080/",
          "height": 106
        },
        "outputId": "b2b5ca82-50d8-4d56-9913-238eeead144c"
      },
      "source": [
        "plt.hist(df.loc[(df[col(2)].isna() == True) & (df[col(8)] != 0), col(8)], bins=100)\n",
        "\n",
        "plt.grid()\n",
        "plt.show()"
      ],
      "execution_count": 1217,
      "outputs": [
        {
          "output_type": "display_data",
          "data": {
            "image/png": "[encoded data removed]",
            "text/plain": [
              "<Figure size 576x72 with 1 Axes>"
            ]
          },
          "metadata": {
            "tags": []
          }
        }
      ]
    },
    {
      "cell_type": "code",
      "metadata": {
        "id": "h0E6qGfF44jO",
        "colab_type": "code",
        "colab": {}
      },
      "source": [
        "df.loc[(df[col(8)].between(0, 93)) & (df[col(2)].isna() == True), col(2)] = '4 years'"
      ],
      "execution_count": 0,
      "outputs": []
    },
    {
      "cell_type": "code",
      "metadata": {
        "id": "lBsVbshLx9hx",
        "colab_type": "code",
        "colab": {
          "base_uri": "https://localhost:8080/",
          "height": 386
        },
        "outputId": "5e0bdb23-4e4c-4681-8792-58345791cae0"
      },
      "source": [
        "df.info()"
      ],
      "execution_count": 1219,
      "outputs": [
        {
          "output_type": "stream",
          "text": [
            "<class 'pandas.core.frame.DataFrame'>\n",
            "Int64Index: 5943 entries, 0 to 7497\n",
            "Data columns (total 17 columns):\n",
            "Home Ownership                  5943 non-null object\n",
            "Annual Income                   5943 non-null float64\n",
            "Years in current job            5943 non-null object\n",
            "Tax Liens                       5943 non-null float64\n",
            "Number of Open Accounts         5943 non-null float64\n",
            "Years of Credit History         5943 non-null float64\n",
            "Maximum Open Credit             5943 non-null float64\n",
            "Number of Credit Problems       5943 non-null float64\n",
            "Months since last delinquent    5943 non-null float64\n",
            "Bankruptcies                    5943 non-null float64\n",
            "Purpose                         5943 non-null object\n",
            "Term                            5943 non-null object\n",
            "Current Loan Amount             5943 non-null float64\n",
            "Current Credit Balance          5943 non-null float64\n",
            "Monthly Debt                    5943 non-null float64\n",
            "Credit Score                    5943 non-null float64\n",
            "Credit Default                  5943 non-null int64\n",
            "dtypes: float64(12), int64(1), object(4)\n",
            "memory usage: 835.7+ KB\n"
          ],
          "name": "stdout"
        }
      ]
    },
    {
      "cell_type": "code",
      "metadata": {
        "id": "6bCT9P5ns9KG",
        "colab_type": "code",
        "colab": {}
      },
      "source": [
        ""
      ],
      "execution_count": 0,
      "outputs": []
    },
    {
      "cell_type": "code",
      "metadata": {
        "id": "pO3r28RdmcMq",
        "colab_type": "code",
        "outputId": "dbb4feab-854e-41bc-821f-b0d731761902",
        "colab": {
          "base_uri": "https://localhost:8080/",
          "height": 67
        }
      },
      "source": [
        "# Балансировка целевой переменной\n",
        "\n",
        "df = balance(df, col(16))\n",
        "\n",
        "df[col(16)].value_counts()"
      ],
      "execution_count": 1220,
      "outputs": [
        {
          "output_type": "execute_result",
          "data": {
            "text/plain": [
              "1    4359\n",
              "0    4359\n",
              "Name: Credit Default, dtype: int64"
            ]
          },
          "metadata": {
            "tags": []
          },
          "execution_count": 1220
        }
      ]
    },
    {
      "cell_type": "code",
      "metadata": {
        "id": "Dr8UJaCiXDc0",
        "colab_type": "code",
        "colab": {}
      },
      "source": [
        "#  Разделение категориальных и числовых признаков\n",
        "\n",
        "TARGET_col = col(16)\n",
        "CAT_cols = col([0,2,10,11])\n",
        "NUM_cols = df[df.columns.difference(CAT_cols)].drop(TARGET_col, axis=1).columns"
      ],
      "execution_count": 0,
      "outputs": []
    },
    {
      "cell_type": "code",
      "metadata": {
        "id": "IdHerRQU-Xde",
        "colab_type": "code",
        "colab": {}
      },
      "source": [
        "# Разрежение категориальных признаков (дамми переменные)\n",
        "\n",
        "df_sparse = dummies_for_many(CAT_cols)\n",
        "\n",
        "\n",
        "# XGBoost не позволяет работать с признаками в названии которых \"<\", поэтому: \n",
        "df_sparse = df_sparse.rename(columns={'< 1 year':'less 1 year'})"
      ],
      "execution_count": 0,
      "outputs": []
    },
    {
      "cell_type": "code",
      "metadata": {
        "id": "jxlkCjqYB1vp",
        "colab_type": "code",
        "outputId": "de8e1777-e848-449e-d856-9de02151046c",
        "colab": {
          "base_uri": "https://localhost:8080/",
          "height": 147
        }
      },
      "source": [
        "df_sparse.head(1)"
      ],
      "execution_count": 1223,
      "outputs": [
        {
          "output_type": "execute_result",
          "data": {
            "text/html": [
              "<div>\n",
              "<style scoped>\n",
              "    .dataframe tbody tr th:only-of-type {\n",
              "        vertical-align: middle;\n",
              "    }\n",
              "\n",
              "    .dataframe tbody tr th {\n",
              "        vertical-align: top;\n",
              "    }\n",
              "\n",
              "    .dataframe thead th {\n",
              "        text-align: right;\n",
              "    }\n",
              "</style>\n",
              "<table border=\"1\" class=\"dataframe\">\n",
              "  <thead>\n",
              "    <tr style=\"text-align: right;\">\n",
              "      <th></th>\n",
              "      <th>Annual Income</th>\n",
              "      <th>Tax Liens</th>\n",
              "      <th>Number of Open Accounts</th>\n",
              "      <th>Years of Credit History</th>\n",
              "      <th>Maximum Open Credit</th>\n",
              "      <th>Number of Credit Problems</th>\n",
              "      <th>Months since last delinquent</th>\n",
              "      <th>Bankruptcies</th>\n",
              "      <th>Current Loan Amount</th>\n",
              "      <th>Current Credit Balance</th>\n",
              "      <th>Monthly Debt</th>\n",
              "      <th>Credit Score</th>\n",
              "      <th>Credit Default</th>\n",
              "      <th>Have Mortgage</th>\n",
              "      <th>Home Mortgage</th>\n",
              "      <th>Own Home</th>\n",
              "      <th>Rent</th>\n",
              "      <th>1 year</th>\n",
              "      <th>10+ years</th>\n",
              "      <th>2 years</th>\n",
              "      <th>3 years</th>\n",
              "      <th>4 years</th>\n",
              "      <th>5 years</th>\n",
              "      <th>6 years</th>\n",
              "      <th>7 years</th>\n",
              "      <th>8 years</th>\n",
              "      <th>9 years</th>\n",
              "      <th>less 1 year</th>\n",
              "      <th>business loan</th>\n",
              "      <th>buy a car</th>\n",
              "      <th>buy house</th>\n",
              "      <th>debt consolidation</th>\n",
              "      <th>educational expenses</th>\n",
              "      <th>home improvements</th>\n",
              "      <th>major purchase</th>\n",
              "      <th>medical bills</th>\n",
              "      <th>moving</th>\n",
              "      <th>other</th>\n",
              "      <th>small business</th>\n",
              "      <th>take a trip</th>\n",
              "      <th>vacation</th>\n",
              "      <th>wedding</th>\n",
              "      <th>Long Term</th>\n",
              "      <th>Short Term</th>\n",
              "    </tr>\n",
              "  </thead>\n",
              "  <tbody>\n",
              "    <tr>\n",
              "      <th>0</th>\n",
              "      <td>482087.0</td>\n",
              "      <td>0.0</td>\n",
              "      <td>11.0</td>\n",
              "      <td>26.3</td>\n",
              "      <td>685960.0</td>\n",
              "      <td>1.0</td>\n",
              "      <td>1.0</td>\n",
              "      <td>1.0</td>\n",
              "      <td>99999999.0</td>\n",
              "      <td>47386.0</td>\n",
              "      <td>7914.0</td>\n",
              "      <td>749.0</td>\n",
              "      <td>0</td>\n",
              "      <td>0</td>\n",
              "      <td>0</td>\n",
              "      <td>1</td>\n",
              "      <td>0</td>\n",
              "      <td>0</td>\n",
              "      <td>0</td>\n",
              "      <td>0</td>\n",
              "      <td>0</td>\n",
              "      <td>1</td>\n",
              "      <td>0</td>\n",
              "      <td>0</td>\n",
              "      <td>0</td>\n",
              "      <td>0</td>\n",
              "      <td>0</td>\n",
              "      <td>0</td>\n",
              "      <td>0</td>\n",
              "      <td>0</td>\n",
              "      <td>0</td>\n",
              "      <td>1</td>\n",
              "      <td>0</td>\n",
              "      <td>0</td>\n",
              "      <td>0</td>\n",
              "      <td>0</td>\n",
              "      <td>0</td>\n",
              "      <td>0</td>\n",
              "      <td>0</td>\n",
              "      <td>0</td>\n",
              "      <td>0</td>\n",
              "      <td>0</td>\n",
              "      <td>0</td>\n",
              "      <td>1</td>\n",
              "    </tr>\n",
              "  </tbody>\n",
              "</table>\n",
              "</div>"
            ],
            "text/plain": [
              "   Annual Income  Tax Liens  ...  Long Term  Short Term\n",
              "0       482087.0        0.0  ...          0           1\n",
              "\n",
              "[1 rows x 44 columns]"
            ]
          },
          "metadata": {
            "tags": []
          },
          "execution_count": 1223
        }
      ]
    },
    {
      "cell_type": "code",
      "metadata": {
        "id": "1po-wVyNpWwf",
        "colab_type": "code",
        "colab": {}
      },
      "source": [
        "# Стандартизируем числовые признаки\n",
        "\n",
        "scaler = StandardScaler()\n",
        "\n",
        "df_sparse[NUM_cols] = scaler.fit_transform(df_sparse[NUM_cols], TARGET_col)"
      ],
      "execution_count": 0,
      "outputs": []
    },
    {
      "cell_type": "code",
      "metadata": {
        "id": "n137AFyjs8OS",
        "colab_type": "code",
        "outputId": "126e11bd-954d-48ec-8b34-f908f3a3c51d",
        "colab": {
          "base_uri": "https://localhost:8080/",
          "height": 177
        }
      },
      "source": [
        "df_sparse.head(2)"
      ],
      "execution_count": 1225,
      "outputs": [
        {
          "output_type": "execute_result",
          "data": {
            "text/html": [
              "<div>\n",
              "<style scoped>\n",
              "    .dataframe tbody tr th:only-of-type {\n",
              "        vertical-align: middle;\n",
              "    }\n",
              "\n",
              "    .dataframe tbody tr th {\n",
              "        vertical-align: top;\n",
              "    }\n",
              "\n",
              "    .dataframe thead th {\n",
              "        text-align: right;\n",
              "    }\n",
              "</style>\n",
              "<table border=\"1\" class=\"dataframe\">\n",
              "  <thead>\n",
              "    <tr style=\"text-align: right;\">\n",
              "      <th></th>\n",
              "      <th>Annual Income</th>\n",
              "      <th>Tax Liens</th>\n",
              "      <th>Number of Open Accounts</th>\n",
              "      <th>Years of Credit History</th>\n",
              "      <th>Maximum Open Credit</th>\n",
              "      <th>Number of Credit Problems</th>\n",
              "      <th>Months since last delinquent</th>\n",
              "      <th>Bankruptcies</th>\n",
              "      <th>Current Loan Amount</th>\n",
              "      <th>Current Credit Balance</th>\n",
              "      <th>Monthly Debt</th>\n",
              "      <th>Credit Score</th>\n",
              "      <th>Credit Default</th>\n",
              "      <th>Have Mortgage</th>\n",
              "      <th>Home Mortgage</th>\n",
              "      <th>Own Home</th>\n",
              "      <th>Rent</th>\n",
              "      <th>1 year</th>\n",
              "      <th>10+ years</th>\n",
              "      <th>2 years</th>\n",
              "      <th>3 years</th>\n",
              "      <th>4 years</th>\n",
              "      <th>5 years</th>\n",
              "      <th>6 years</th>\n",
              "      <th>7 years</th>\n",
              "      <th>8 years</th>\n",
              "      <th>9 years</th>\n",
              "      <th>less 1 year</th>\n",
              "      <th>business loan</th>\n",
              "      <th>buy a car</th>\n",
              "      <th>buy house</th>\n",
              "      <th>debt consolidation</th>\n",
              "      <th>educational expenses</th>\n",
              "      <th>home improvements</th>\n",
              "      <th>major purchase</th>\n",
              "      <th>medical bills</th>\n",
              "      <th>moving</th>\n",
              "      <th>other</th>\n",
              "      <th>small business</th>\n",
              "      <th>take a trip</th>\n",
              "      <th>vacation</th>\n",
              "      <th>wedding</th>\n",
              "      <th>Long Term</th>\n",
              "      <th>Short Term</th>\n",
              "    </tr>\n",
              "  </thead>\n",
              "  <tbody>\n",
              "    <tr>\n",
              "      <th>0</th>\n",
              "      <td>-1.046183</td>\n",
              "      <td>-0.108731</td>\n",
              "      <td>-0.025608</td>\n",
              "      <td>1.134146</td>\n",
              "      <td>-0.018956</td>\n",
              "      <td>1.666800</td>\n",
              "      <td>-1.823069</td>\n",
              "      <td>2.507673</td>\n",
              "      <td>2.414726</td>\n",
              "      <td>-0.757956</td>\n",
              "      <td>-0.872080</td>\n",
              "      <td>-0.250629</td>\n",
              "      <td>0</td>\n",
              "      <td>0</td>\n",
              "      <td>0</td>\n",
              "      <td>1</td>\n",
              "      <td>0</td>\n",
              "      <td>0</td>\n",
              "      <td>0</td>\n",
              "      <td>0</td>\n",
              "      <td>0</td>\n",
              "      <td>1</td>\n",
              "      <td>0</td>\n",
              "      <td>0</td>\n",
              "      <td>0</td>\n",
              "      <td>0</td>\n",
              "      <td>0</td>\n",
              "      <td>0</td>\n",
              "      <td>0</td>\n",
              "      <td>0</td>\n",
              "      <td>0</td>\n",
              "      <td>1</td>\n",
              "      <td>0</td>\n",
              "      <td>0</td>\n",
              "      <td>0</td>\n",
              "      <td>0</td>\n",
              "      <td>0</td>\n",
              "      <td>0</td>\n",
              "      <td>0</td>\n",
              "      <td>0</td>\n",
              "      <td>0</td>\n",
              "      <td>0</td>\n",
              "      <td>0</td>\n",
              "      <td>1</td>\n",
              "    </tr>\n",
              "    <tr>\n",
              "      <th>1</th>\n",
              "      <td>-0.403310</td>\n",
              "      <td>-0.108731</td>\n",
              "      <td>0.790402</td>\n",
              "      <td>-0.427729</td>\n",
              "      <td>0.061582</td>\n",
              "      <td>-0.340453</td>\n",
              "      <td>0.032748</td>\n",
              "      <td>-0.334803</td>\n",
              "      <td>-0.415438</td>\n",
              "      <td>0.324280</td>\n",
              "      <td>0.007938</td>\n",
              "      <td>-0.258108</td>\n",
              "      <td>1</td>\n",
              "      <td>0</td>\n",
              "      <td>0</td>\n",
              "      <td>1</td>\n",
              "      <td>0</td>\n",
              "      <td>0</td>\n",
              "      <td>1</td>\n",
              "      <td>0</td>\n",
              "      <td>0</td>\n",
              "      <td>0</td>\n",
              "      <td>0</td>\n",
              "      <td>0</td>\n",
              "      <td>0</td>\n",
              "      <td>0</td>\n",
              "      <td>0</td>\n",
              "      <td>0</td>\n",
              "      <td>0</td>\n",
              "      <td>0</td>\n",
              "      <td>0</td>\n",
              "      <td>1</td>\n",
              "      <td>0</td>\n",
              "      <td>0</td>\n",
              "      <td>0</td>\n",
              "      <td>0</td>\n",
              "      <td>0</td>\n",
              "      <td>0</td>\n",
              "      <td>0</td>\n",
              "      <td>0</td>\n",
              "      <td>0</td>\n",
              "      <td>0</td>\n",
              "      <td>1</td>\n",
              "      <td>0</td>\n",
              "    </tr>\n",
              "  </tbody>\n",
              "</table>\n",
              "</div>"
            ],
            "text/plain": [
              "   Annual Income  Tax Liens  ...  Long Term  Short Term\n",
              "0      -1.046183  -0.108731  ...          0           1\n",
              "1      -0.403310  -0.108731  ...          1           0\n",
              "\n",
              "[2 rows x 44 columns]"
            ]
          },
          "metadata": {
            "tags": []
          },
          "execution_count": 1225
        }
      ]
    },
    {
      "cell_type": "code",
      "metadata": {
        "id": "fwBJ_3mhIcdm",
        "colab_type": "code",
        "colab": {}
      },
      "source": [
        ""
      ],
      "execution_count": 0,
      "outputs": []
    },
    {
      "cell_type": "code",
      "metadata": {
        "id": "0GQErIcwtSuH",
        "colab_type": "code",
        "colab": {}
      },
      "source": [
        "# train test split\n",
        "\n",
        "\n",
        "# X = df_sparse[df_sparse.columns.difference(list(TARGET_col))]\n",
        "X = df_sparse.loc[:, df_sparse.columns != TARGET_col]\n",
        "y = df_sparse[TARGET_col]\n",
        "\n",
        "X_train, X_test, y_train, y_test = train_test_split(X, y, shuffle=True, test_size=.25, random_state=21)"
      ],
      "execution_count": 0,
      "outputs": []
    },
    {
      "cell_type": "markdown",
      "metadata": {
        "id": "LPMnbj7tldfv",
        "colab_type": "text"
      },
      "source": [
        "# Построение моделей"
      ]
    },
    {
      "cell_type": "code",
      "metadata": {
        "id": "SMZBrTLyFnye",
        "colab_type": "code",
        "outputId": "a961ef9c-c4a2-40d7-d516-e0b1f1a9ccb6",
        "colab": {
          "base_uri": "https://localhost:8080/",
          "height": 370
        }
      },
      "source": [
        "# XGBoost\n",
        "\n",
        "xgb = xgboost.XGBClassifier(random_state=21)\n",
        "\n",
        "xgb.fit(X_train, y_train)\n",
        "\n",
        "y_train_pred = xgb.predict(X_train)\n",
        "y_test_pred = xgb.predict(X_test)\n",
        "\n",
        "report()"
      ],
      "execution_count": 1227,
      "outputs": [
        {
          "output_type": "stream",
          "text": [
            "TRAIN \n",
            "               precision    recall  f1-score   support\n",
            "\n",
            "           0       0.80      0.99      0.89      3262\n",
            "           1       0.94      0.32      0.48      1195\n",
            "\n",
            "    accuracy                           0.81      4457\n",
            "   macro avg       0.87      0.66      0.68      4457\n",
            "weighted avg       0.84      0.81      0.78      4457\n",
            "\n",
            "\n",
            "TEST \n",
            "               precision    recall  f1-score   support\n",
            "\n",
            "           0       0.80      0.99      0.88      1097\n",
            "           1       0.91      0.30      0.45       389\n",
            "\n",
            "    accuracy                           0.81      1486\n",
            "   macro avg       0.86      0.65      0.67      1486\n",
            "weighted avg       0.83      0.81      0.77      1486\n",
            "\n"
          ],
          "name": "stdout"
        }
      ]
    },
    {
      "cell_type": "code",
      "metadata": {
        "id": "0wUzZ5DAkSGR",
        "colab_type": "code",
        "outputId": "b1a03717-7205-4278-9b16-a5ff617fe384",
        "colab": {
          "base_uri": "https://localhost:8080/",
          "height": 370
        }
      },
      "source": [
        "# lightGBM\n",
        "\n",
        "lgbm = lightgbm.LGBMClassifier(random_state=21)\n",
        "\n",
        "lgbm.fit(X_train, y_train)\n",
        "\n",
        "y_train_pred = lgbm.predict(X_train)\n",
        "y_test_pred = lgbm.predict(X_test)\n",
        "\n",
        "report()"
      ],
      "execution_count": 1228,
      "outputs": [
        {
          "output_type": "stream",
          "text": [
            "TRAIN \n",
            "               precision    recall  f1-score   support\n",
            "\n",
            "           0       0.93      1.00      0.96      3262\n",
            "           1       1.00      0.78      0.88      1195\n",
            "\n",
            "    accuracy                           0.94      4457\n",
            "   macro avg       0.96      0.89      0.92      4457\n",
            "weighted avg       0.95      0.94      0.94      4457\n",
            "\n",
            "\n",
            "TEST \n",
            "               precision    recall  f1-score   support\n",
            "\n",
            "           0       0.81      0.95      0.87      1097\n",
            "           1       0.71      0.35      0.47       389\n",
            "\n",
            "    accuracy                           0.79      1486\n",
            "   macro avg       0.76      0.65      0.67      1486\n",
            "weighted avg       0.78      0.79      0.77      1486\n",
            "\n"
          ],
          "name": "stdout"
        }
      ]
    },
    {
      "cell_type": "code",
      "metadata": {
        "id": "m7c4Hd49lJ7y",
        "colab_type": "code",
        "outputId": "5f94b7f1-1fa3-4f97-cdbf-162a829ba94c",
        "colab": {
          "base_uri": "https://localhost:8080/",
          "height": 370
        }
      },
      "source": [
        "# CatBoost\n",
        "\n",
        "catb = catboost.CatBoostClassifier(silent=True, random_state=21)\n",
        "\n",
        "catb.fit(X_train, y_train)\n",
        "\n",
        "y_train_pred = catb.predict(X_train)\n",
        "y_test_pred = catb.predict(X_test)\n",
        "\n",
        "report()"
      ],
      "execution_count": 1229,
      "outputs": [
        {
          "output_type": "stream",
          "text": [
            "TRAIN \n",
            "               precision    recall  f1-score   support\n",
            "\n",
            "           0       0.83      1.00      0.90      3262\n",
            "           1       0.97      0.43      0.60      1195\n",
            "\n",
            "    accuracy                           0.84      4457\n",
            "   macro avg       0.90      0.71      0.75      4457\n",
            "weighted avg       0.87      0.84      0.82      4457\n",
            "\n",
            "\n",
            "TEST \n",
            "               precision    recall  f1-score   support\n",
            "\n",
            "           0       0.80      0.98      0.88      1097\n",
            "           1       0.86      0.32      0.47       389\n",
            "\n",
            "    accuracy                           0.81      1486\n",
            "   macro avg       0.83      0.65      0.68      1486\n",
            "weighted avg       0.82      0.81      0.77      1486\n",
            "\n"
          ],
          "name": "stdout"
        }
      ]
    },
    {
      "cell_type": "markdown",
      "metadata": {
        "id": "Wvow7Pk6nkc_",
        "colab_type": "text"
      },
      "source": [
        "# TODO Сделать обработку и для ТЕСТА, так же добавить кросс-валидацию.\n",
        "## Понять почему низки recall\n",
        "### Подозреваю что плохая обобщенность модели для класса = 1 свзяана с частым повторением одинаковых наблюдений из-за баллансировки. Попробовать предикт кредитного рейтинга и на его основе таргета. Так же проверить наиболее значимые признаки."
      ]
    },
    {
      "cell_type": "code",
      "metadata": {
        "id": "xGUwLPF1mByw",
        "colab_type": "code",
        "colab": {
          "base_uri": "https://localhost:8080/",
          "height": 370
        },
        "outputId": "3d8e5e7f-de5b-4cbb-889c-92d4f165c1b4"
      },
      "source": [
        "# KNN\n",
        "\n",
        "knn = KNeighborsClassifier()\n",
        "\n",
        "knn.fit(X_train, y_train)\n",
        "\n",
        "y_train_pred = knn.predict(X_train)\n",
        "y_test_pred = knn.predict(X_test)\n",
        "\n",
        "report()"
      ],
      "execution_count": 1232,
      "outputs": [
        {
          "output_type": "stream",
          "text": [
            "TRAIN \n",
            "               precision    recall  f1-score   support\n",
            "\n",
            "           0       0.83      0.96      0.89      3262\n",
            "           1       0.82      0.47      0.60      1195\n",
            "\n",
            "    accuracy                           0.83      4457\n",
            "   macro avg       0.83      0.72      0.75      4457\n",
            "weighted avg       0.83      0.83      0.81      4457\n",
            "\n",
            "\n",
            "TEST \n",
            "               precision    recall  f1-score   support\n",
            "\n",
            "           0       0.80      0.93      0.86      1097\n",
            "           1       0.64      0.35      0.45       389\n",
            "\n",
            "    accuracy                           0.78      1486\n",
            "   macro avg       0.72      0.64      0.66      1486\n",
            "weighted avg       0.76      0.78      0.75      1486\n",
            "\n"
          ],
          "name": "stdout"
        }
      ]
    },
    {
      "cell_type": "code",
      "metadata": {
        "id": "GqeRw1M-nBEa",
        "colab_type": "code",
        "colab": {
          "base_uri": "https://localhost:8080/",
          "height": 370
        },
        "outputId": "afe0cb75-2889-425b-d86f-ca4d980e0e12"
      },
      "source": [
        "# # logistic regression\n",
        "\n",
        "lr = LogisticRegression()\n",
        "\n",
        "lr.fit(X_train, y_train)\n",
        "\n",
        "y_train_pred = lr.predict(X_train)\n",
        "y_test_pred = lr.predict(X_test)\n",
        "\n",
        "report()"
      ],
      "execution_count": 1233,
      "outputs": [
        {
          "output_type": "stream",
          "text": [
            "TRAIN \n",
            "               precision    recall  f1-score   support\n",
            "\n",
            "           0       0.79      0.98      0.88      3262\n",
            "           1       0.87      0.30      0.45      1195\n",
            "\n",
            "    accuracy                           0.80      4457\n",
            "   macro avg       0.83      0.64      0.66      4457\n",
            "weighted avg       0.81      0.80      0.76      4457\n",
            "\n",
            "\n",
            "TEST \n",
            "               precision    recall  f1-score   support\n",
            "\n",
            "           0       0.80      0.98      0.88      1097\n",
            "           1       0.82      0.30      0.43       389\n",
            "\n",
            "    accuracy                           0.80      1486\n",
            "   macro avg       0.81      0.64      0.66      1486\n",
            "weighted avg       0.80      0.80      0.76      1486\n",
            "\n"
          ],
          "name": "stdout"
        }
      ]
    }
  ]
}